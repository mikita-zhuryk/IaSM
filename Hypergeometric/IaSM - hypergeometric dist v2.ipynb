{
 "cells": [
  {
   "cell_type": "markdown",
   "metadata": {
    "slideshow": {
     "slide_type": "slide"
    }
   },
   "source": [
    "## Презентация на тему\n",
    "# Гипергеометрическое распределение\n",
    "\n",
    "## Подготовили:\n",
    "Журик Никита Сергеевич,\n",
    "4 курс, 6 группа,\n",
    "Казимиров Владислав Евгеньевич,\n",
    "4 курс, 6 группа\n",
    "## Преподаватель:\n",
    "Пирштук Иван Казимирович"
   ]
  },
  {
   "cell_type": "markdown",
   "metadata": {
    "slideshow": {
     "slide_type": "slide"
    }
   },
   "source": [
    "## Определение"
   ]
  },
  {
   "cell_type": "markdown",
   "metadata": {
    "slideshow": {
     "slide_type": "subslide"
    }
   },
   "source": [
    "Гипергеометрическое распределение моделирует вероятность выбора $k$ объектов класса $1$ из выборки, в которой $N$ объектов, из которых всего $K$ принадлежат классу $1$."
   ]
  },
  {
   "cell_type": "markdown",
   "metadata": {
    "slideshow": {
     "slide_type": "subslide"
    }
   },
   "source": [
    "Случайная величина $\\xi$ распределена по гипергеометрическому закону, если $$P(\\xi = k) = \\frac{\\binom{K}{k}\\binom{N-K}{n-k}}{\\binom{N}{n}}$$."
   ]
  },
  {
   "cell_type": "markdown",
   "metadata": {
    "slideshow": {
     "slide_type": "subslide"
    }
   },
   "source": [
    "При должном уровне наблюдательности можно заметить, что в числителе есть не что иное как вероятность выбрать из $N$ объектов двух классов $k$ объектов класса $1$ и $n-k$ объектов класса $0$. В знаментателе же общее число способов выбрать из $N$ объектов $n$."
   ]
  },
  {
   "cell_type": "markdown",
   "metadata": {
    "slideshow": {
     "slide_type": "slide"
    }
   },
   "source": [
    "## Свойства"
   ]
  },
  {
   "cell_type": "markdown",
   "metadata": {
    "slideshow": {
     "slide_type": "subslide"
    }
   },
   "source": [
    "Доказательство $\\sum_k P(\\xi=k) = 1$ просто и, тем не менее, красиво, так как тесно связано с занимательным фактом из комбинаторики, носящим название тождества Вандермонда:\n",
    "$$\\sum_{k=0}^r \\binom{m}{k}\\binom{n}{r-k} = \\binom{m+n}{r}$$\n",
    "\n",
    "Очевидно, вероятность выбрать $k+i, \\ i > 0$ объект класса $1$ равна $0$. Тогда $$\\sum_{k=0}^n \\binom{K}{k}\\binom{N-K}{n-k} = \\binom{N}{n}$$\n",
    "\n",
    "Таким образом, сумма вероятностей действительно равна $1$."
   ]
  },
  {
   "cell_type": "markdown",
   "metadata": {
    "slideshow": {
     "slide_type": "subslide"
    }
   },
   "source": [
    "Покажем, что $\\mathbb{E}\\{\\xi\\} = n\\frac{K}{N}$ $\\left(\\binom{N}{k} = 0 \\ \\forall k \\neq \\overline{0, N}\\right)$:\n",
    "\n",
    "\\begin{align}\n",
    "\\mathbb{E}\\{\\xi\\} &= \\frac{1}{\\binom{N}{n}}\\sum_{k=0}^n k\\binom{K}{k}\\binom{N-K}{n-k} \\\\\n",
    "&= \\frac{1}{\\binom{N}{n}}\\sum_{k=1}^n k\\binom{K}{k}\\binom{N-K}{n-k} \\\\\n",
    "&= \\frac{1}{\\binom{N}{n}}\\sum_{k=1}^n K\\binom{K-1}{k-1}\\binom{N-K}{n-k} \\\\\n",
    "&= \\frac{1}{\\binom{N}{n}}\\sum_{k=0}^{n-1} K\\binom{K-1}{k}\\binom{N-K}{n-1-k} \\\\\n",
    "&= \\frac{K}{\\frac{N}{n}\\binom{N-1}{n-1}}\\binom{N-1}{n-1} \\\\\n",
    "&= \\frac{nK}{N}\n",
    "\\end{align}\n",
    "\n",
    "При помощи похожих преобразований можно показать $$\\mathbb{D}\\{\\xi\\} = \\frac{nK(N-K)(N-n)}{N^2(N-1)}$$"
   ]
  },
  {
   "cell_type": "markdown",
   "metadata": {
    "slideshow": {
     "slide_type": "slide"
    }
   },
   "source": [
    "## Картиночки"
   ]
  },
  {
   "cell_type": "code",
   "execution_count": 1,
   "metadata": {
    "slideshow": {
     "slide_type": "fragment"
    }
   },
   "outputs": [],
   "source": [
    "from statmod2 import HypergeometricDistributionInverse\n",
    "\n",
    "N = 500\n",
    "D = 150\n",
    "n = 50\n",
    "\n",
    "dist = HypergeometricDistributionInverse(N=N, D=D, n=n)\n",
    "\n",
    "sample_size = 10000\n",
    "\n",
    "samples = dist((sample_size,))"
   ]
  },
  {
   "cell_type": "markdown",
   "metadata": {
    "slideshow": {
     "slide_type": "subslide"
    }
   },
   "source": [
    "### Функция распределения"
   ]
  },
  {
   "cell_type": "code",
   "execution_count": 3,
   "metadata": {
    "slideshow": {
     "slide_type": "fragment"
    }
   },
   "outputs": [
    {
     "data": {
      "image/png": "[encoded data removed]",
      "text/plain": [
       "<Figure size 648x504 with 1 Axes>"
      ]
     },
     "metadata": {
      "needs_background": "light"
     },
     "output_type": "display_data"
    }
   ],
   "source": [
    "import numpy as np\n",
    "from matplotlib import pyplot as plt\n",
    "\n",
    "plt.figure(figsize=(9, 7))\n",
    "plt.hist(samples, bins = n // 2, weights=1/sample_size * np.ones_like(samples))\n",
    "plt.xlabel('k')\n",
    "plt.ylabel('P')\n",
    "plt.title(f'Probability Mass Function for Hypergeom((N={N}, K={D}, n={n}))')\n",
    "plt.show()"
   ]
  },
  {
   "cell_type": "markdown",
   "metadata": {
    "slideshow": {
     "slide_type": "subslide"
    }
   },
   "source": [
    "### Кумулятивная функция распределения"
   ]
  },
  {
   "cell_type": "code",
   "execution_count": 4,
   "metadata": {
    "slideshow": {
     "slide_type": "fragment"
    }
   },
   "outputs": [
    {
     "data": {
      "image/png": "[encoded data removed]",
      "text/plain": [
       "<Figure size 648x504 with 1 Axes>"
      ]
     },
     "metadata": {
      "needs_background": "light"
     },
     "output_type": "display_data"
    }
   ],
   "source": [
    "from matplotlib import pyplot as plt\n",
    "\n",
    "plt.figure(figsize=(9, 7))\n",
    "plt.plot(dist.cdf)\n",
    "plt.xlabel('k')\n",
    "plt.ylabel('P')\n",
    "plt.title(f'Cumulative Distribution Function for Hypergeom(N={N}, K={D}, n={n})')\n",
    "plt.show()"
   ]
  },
  {
   "cell_type": "markdown",
   "metadata": {
    "slideshow": {
     "slide_type": "slide"
    }
   },
   "source": [
    "## Применение"
   ]
  },
  {
   "cell_type": "markdown",
   "metadata": {
    "slideshow": {
     "slide_type": "subslide"
    }
   },
   "source": [
    "Наиболее частая область применения гипергеометрического распределения в социологических исследованиях, но данное распределение находит применение и в других доменных областях."
   ]
  },
  {
   "cell_type": "markdown",
   "metadata": {
    "slideshow": {
     "slide_type": "subslide"
    }
   },
   "source": [
    "Начнём с чего-то простого:\n",
    "\n",
    "К примеру, вам дана колода из 20 карт: 6 красных карт и 14 синих карт. Вы берёте 5 случайных карт из колоды. Какова вероятность, что у вас на руке оказалось ровно 4 красных карты?\n",
    "\n",
    "Биномиальное распределение в данном случае не подходит, так как карты были взяты без возврата в колоду. На помощь приходит гипергеометрическое, а именно:\n",
    "\n",
    "$$ P(X = k) = \\frac{\\binom{6}{4} \\binom{14}{1}}{\\binom{20}{5}} = 0.0135 $$"
   ]
  },
  {
   "cell_type": "markdown",
   "metadata": {
    "slideshow": {
     "slide_type": "subslide"
    }
   },
   "source": [
    "Теперь перейдём к более реалистичному примеру. Гипергеометрическое распределение часто используется в социологии или на производстве для определения, какая группа недопреставлена в генерально совокупности или наоборот представлена слишком широко."
   ]
  },
  {
   "cell_type": "markdown",
   "metadata": {
    "slideshow": {
     "slide_type": "subslide"
    }
   },
   "source": [
    "Допустим, вы знаете, что завод производит около 100 запчастей каждый день. Они фасуются в коробки по 500 деталей каждую неделю. Ваш покупатель исследует каждую коробку, отбирая из неё 25 случайных запчастей и исследуя их на дефекты. Распределение, которое он при этом получит, как раз и является гипергеометрическим и может быть использовано для анализа, какой же процент запчастей всё-таки дефектный."
   ]
  },
  {
   "cell_type": "code",
   "execution_count": 5,
   "metadata": {
    "slideshow": {
     "slide_type": "skip"
    }
   },
   "outputs": [],
   "source": [
    "from statmod2 import HypergeometricDistributionInverse\n",
    "\n",
    "N = 500\n",
    "D = 10\n",
    "n = 25\n",
    "\n",
    "dist = HypergeometricDistributionInverse(N=N, D=D, n=n)\n",
    "\n",
    "sample_size = 10000\n",
    "\n",
    "samples = dist((sample_size,))"
   ]
  },
  {
   "cell_type": "code",
   "execution_count": 6,
   "metadata": {
    "slideshow": {
     "slide_type": "subslide"
    }
   },
   "outputs": [
    {
     "data": {
      "image/png": "[encoded data removed]",
      "text/plain": [
       "<Figure size 648x504 with 1 Axes>"
      ]
     },
     "metadata": {
      "needs_background": "light"
     },
     "output_type": "display_data"
    }
   ],
   "source": [
    "import numpy as np\n",
    "import matplotlib.pyplot as plt\n",
    "\n",
    "plt.figure(figsize=(9, 7))\n",
    "plt.hist(samples)\n",
    "plt.xlabel('k')\n",
    "plt.ylabel('P')\n",
    "plt.title(f'Probability Mass Function for Hypergeom(N={N}, K={D}, n={n})')\n",
    "plt.show()"
   ]
  },
  {
   "cell_type": "markdown",
   "metadata": {
    "slideshow": {
     "slide_type": "subslide"
    }
   },
   "source": [
    "Ну и последний пример из машинного обучения: когда мы делим выборку для классификации на train и test. Оказывается, прямо из определения можно заключить, что число объектов одного из классов распределено именно по этому закону."
   ]
  },
  {
   "cell_type": "markdown",
   "metadata": {
    "slideshow": {
     "slide_type": "slide"
    }
   },
   "source": [
    "# Моделирование случайной величины"
   ]
  },
  {
   "cell_type": "markdown",
   "metadata": {
    "slideshow": {
     "slide_type": "subslide"
    }
   },
   "source": [
    "Одним из методов генерации СВ, распределённых по гипергеометрическому закону, является метод, основанный на построении кумулятивной функции распределения. Так как множество значений СВ конечно, для каждого значения $k$ возможно найти вероятность $P(\\xi \\leq k)$. По аксиоме нормировки, сумма вероятностей $P(\\xi = k)$ для всех $k$ равна $1$. Построенную функцию можно использовать для нахождения функции, обратной функции распределения: для генерации значения СВ достаточно сгенерировать значение БСВ и определить, какому значению $k$ оно соответствует.\n",
    "\n",
    "Данный метод реализован в классе HypergeometricDistributionInverse во второй лабораторной работе."
   ]
  },
  {
   "cell_type": "code",
   "execution_count": null,
   "metadata": {},
   "outputs": [],
   "source": []
  }
 ],
 "metadata": {
  "celltoolbar": "Slideshow",
  "hide_input": false,
  "kernelspec": {
   "display_name": "Python 3",
   "language": "python",
   "name": "python3"
  },
  "language_info": {
   "codemirror_mode": {
    "name": "ipython",
    "version": 3
   },
   "file_extension": ".py",
   "mimetype": "text/x-python",
   "name": "python",
   "nbconvert_exporter": "python",
   "pygments_lexer": "ipython3",
   "version": "3.8.5"
  },
  "toc": {
   "base_numbering": 1,
   "nav_menu": {},
   "number_sections": true,
   "sideBar": true,
   "skip_h1_title": false,
   "title_cell": "Table of Contents",
   "title_sidebar": "Contents",
   "toc_cell": false,
   "toc_position": {},
   "toc_section_display": true,
   "toc_window_display": false
  },
  "varInspector": {
   "cols": {
    "lenName": 16,
    "lenType": 16,
    "lenVar": 40
   },
   "kernels_config": {
    "python": {
     "delete_cmd_postfix": "",
     "delete_cmd_prefix": "del ",
     "library": "var_list.py",
     "varRefreshCmd": "print(var_dic_list())"
    },
    "r": {
     "delete_cmd_postfix": ") ",
     "delete_cmd_prefix": "rm(",
     "library": "var_list.r",
     "varRefreshCmd": "cat(var_dic_list()) "
    }
   },
   "types_to_exclude": [
    "module",
    "function",
    "builtin_function_or_method",
    "instance",
    "_Feature"
   ],
   "window_display": false
  }
 },
 "nbformat": 4,
 "nbformat_minor": 4
}
