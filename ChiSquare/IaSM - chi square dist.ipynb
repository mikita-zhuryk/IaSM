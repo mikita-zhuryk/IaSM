{
 "cells": [
  {
   "cell_type": "markdown",
   "metadata": {
    "slideshow": {
     "slide_type": "slide"
    }
   },
   "source": [
    "## Доклад на тему\n",
    "# Распределение хи-квадрат\n",
    "\n",
    "## Подготовил:\n",
    "Журик Никита Сергеевич, \\\n",
    "4 курс, 6 группа\n",
    "## Преподаватель:\n",
    "Пирштук Иван Казимирович, \\\n",
    "канд. физ.-мат. наук"
   ]
  },
  {
   "cell_type": "markdown",
   "metadata": {
    "slideshow": {
     "slide_type": "slide"
    }
   },
   "source": [
    "## Определение"
   ]
  },
  {
   "cell_type": "markdown",
   "metadata": {
    "slideshow": {
     "slide_type": "subslide"
    }
   },
   "source": [
    "Распределение хи-квадрат есть распределение случайной величины $\\xi = \\sum\\limits_{k=1}^n z_k^2$, где $z_k$ - независимые СВ, распределённые по закону стандартного нормального распределения $\\mathcal{N}(0,1)$, а $n$ - число степеней свободы распределения."
   ]
  },
  {
   "cell_type": "markdown",
   "metadata": {
    "slideshow": {
     "slide_type": "subslide"
    }
   },
   "source": [
    "Случайная величина $\\xi$, распределённая по закону хи-квадрат с $k$ степенями свободы, имеет плотность $$p_{\\chi_k^2}(x) = \\frac{(0.5)^{\\frac{k}{2}}}{\\Gamma\\left(\\frac{k}{2}\\right)}x^{\\frac{k}{2}-1}e^{-\\frac{x}{2}}, \\ x \\geq 0$$."
   ]
  },
  {
   "cell_type": "markdown",
   "metadata": {
    "slideshow": {
     "slide_type": "subslide"
    }
   },
   "source": [
    "При этом функция распределения СВ, распределённой по закону хи-квадрат с $k$ степенями свободы, имеет вид $$F_{\\chi_k^2}(x) = \\frac{\\gamma\\left(\\frac{k}{2}, \\frac{x}{2}\\right)}{\\Gamma\\left(\\frac{k}{2}\\right)}$$"
   ]
  },
  {
   "cell_type": "markdown",
   "metadata": {
    "slideshow": {
     "slide_type": "slide"
    }
   },
   "source": [
    "## Свойства"
   ]
  },
  {
   "cell_type": "markdown",
   "metadata": {
    "slideshow": {
     "slide_type": "subslide"
    }
   },
   "source": [
    "Условие нормировки может быть проверено напрямую с учётом определения гамма-функции:\n",
    "\\begin{align}\n",
    "\\int\\limits_{0}^{+\\infty} p_{\\chi_k^2}(x) dx &= \\frac{(0.5)^{\\frac{k}{2}}}{\\Gamma\\left(\\frac{k}{2}\\right)} \\int\\limits_{0}^{+\\infty} x^{\\frac{k}{2}-1}e^{-\\frac{x}{2}} dx \\\\\n",
    "&= \\frac{(0.5)^{\\frac{k}{2}}}{\\Gamma\\left(\\frac{k}{2}\\right)} \\frac{2}{(0.5)^{\\frac{k}{2} - 1}} \\int\\limits_{0}^{+\\infty}  \\left(\\frac{x}{2}\\right)^{\\frac{k}{2}-1}e^{-\\frac{x}{2}} d\\left(\\frac{x}{2}\\right) \\\\\n",
    "&= \\frac{\\Gamma\\left(\\frac{k}{2}\\right)}{\\Gamma\\left(\\frac{k}{2}\\right)} = 1\n",
    "\\end{align}"
   ]
  },
  {
   "cell_type": "markdown",
   "metadata": {
    "slideshow": {
     "slide_type": "subslide"
    }
   },
   "source": [
    "Достаточно просто доказать $\\xi \\sim \\chi_k^2 \\implies \\mathbb{E}(\\xi) = k$:\n",
    "\\begin{align}\n",
    "\\mathbb{E}(\\xi) &= \\sum\\limits_{j=1}^k \\mathbb{E}(z_j^2) \\\\\n",
    "                &= \\frac{k}{\\sqrt{2\\pi}} \\int\\limits_{-\\infty}^{+\\infty} x^2 e^{-\\frac{x^2}{2}} dx = [t = x^2] \\\\\n",
    "                &= \\frac{k}{\\sqrt{2\\pi}} \\int\\limits_0^{+\\infty} t^{\\frac{1}{2}} e^{-\\frac{t}{2}} dt \\\\\n",
    "                &= \\frac{k}{\\sqrt{2\\pi}} 2\\sqrt{2} \\int\\limits_0^{+\\infty} \\left(\\frac{t}{2}\\right)^{\\frac{1}{2}} e^{-\\frac{t}{2}} d\\left(\\frac{t}{2}\\right) \\\\\n",
    "                &= \\frac{k}{\\sqrt{\\pi}} \\Gamma\\left(\\frac{3}{2}\\right) \\\\\n",
    "                &= \\frac{2k}{\\sqrt{\\pi}} \\frac{\\sqrt{\\pi}}{2} = k\n",
    "\\end{align}"
   ]
  },
  {
   "cell_type": "markdown",
   "metadata": {
    "slideshow": {
     "slide_type": "subslide"
    }
   },
   "source": [
    "При помощи похожих преобразований можно показать $\\mathbb{D}(\\xi) = 2k$:\n",
    "\\begin{align}\n",
    "\\mathbb{E}(\\xi^2) &= \\mathbb{E}\\left[\\left(\\sum\\limits_{j=1}^k z_j^2\\right)^2\\right] = [z_i - i.i.d.] = k\\mathbb{E}(z_1^4) + k(k-1) \\mathbb{E}[(z_1^2)]^2 \\\\\n",
    "                  &= k\\mathbb{E}(z_1^4) + k(k-1) \\\\\n",
    "                  &= \\frac{k}{\\sqrt{2\\pi}} \\int\\limits_{-\\infty}^{+\\infty} x^4 e^{-\\frac{x^2}{2}} dx + k^2 - k = [t = x^2] \\\\\n",
    "                  &= \\frac{k}{\\sqrt{2\\pi}} \\int\\limits_0^{+\\infty} t^{\\frac{3}{2}} e^{-\\frac{t}{2}} dt + k^2 - k \\\\\n",
    "                  &= \\frac{k}{\\sqrt{2\\pi}} 4\\sqrt{2} \\int\\limits_0^{+\\infty} \\left(\\frac{t}{2}\\right)^{\\frac{3}{2}} e^{-\\frac{t}{2}} d\\left(\\frac{t}{2}\\right) + k^2 - k\\\\\n",
    "                  &= \\frac{k}{\\sqrt{2\\pi}} 4\\sqrt{2} \\Gamma\\left(\\frac{5}{2}\\right) + k^2 - k \\\\\n",
    "                  &= \\frac{k}{\\sqrt{2\\pi}} 4\\sqrt{2} \\frac{3\\sqrt{\\pi}}{4} + k^2 - k \\\\\n",
    "                  &= 3k + k^2 - k = 2k + k^2 \\implies \\\\\n",
    "\\mathbb{D}(\\xi) &= 2k + k^2 - k^2 = 2k\n",
    "\\end{align}"
   ]
  },
  {
   "cell_type": "markdown",
   "metadata": {
    "slideshow": {
     "slide_type": "slide"
    }
   },
   "source": [
    "## Картиночки"
   ]
  },
  {
   "cell_type": "code",
   "execution_count": 4,
   "metadata": {
    "ExecuteTime": {
     "end_time": "2020-12-02T22:07:14.113410Z",
     "start_time": "2020-12-02T22:07:13.512657Z"
    },
    "slideshow": {
     "slide_type": "fragment"
    }
   },
   "outputs": [],
   "source": [
    "from statmod3 import ChiSquareDistribution\n",
    "\n",
    "df = 8\n",
    "n_bins = 100\n",
    "\n",
    "dist = ChiSquareDistribution(k=df)\n",
    "\n",
    "sample_size = 10000\n",
    "\n",
    "samples = dist((sample_size,))"
   ]
  },
  {
   "cell_type": "markdown",
   "metadata": {
    "slideshow": {
     "slide_type": "subslide"
    }
   },
   "source": [
    "### Функция распределения"
   ]
  },
  {
   "cell_type": "code",
   "execution_count": 10,
   "metadata": {
    "ExecuteTime": {
     "end_time": "2020-12-02T22:10:46.096582Z",
     "start_time": "2020-12-02T22:10:45.842308Z"
    },
    "slideshow": {
     "slide_type": "fragment"
    }
   },
   "outputs": [
    {
     "data": {
      "image/png": "[encoded data removed]",
      "text/plain": [
       "<Figure size 648x504 with 1 Axes>"
      ]
     },
     "metadata": {
      "needs_background": "light"
     },
     "output_type": "display_data"
    }
   ],
   "source": [
    "import numpy as np\n",
    "from matplotlib import pyplot as plt\n",
    "\n",
    "plt.figure(figsize=(9, 7))\n",
    "pdf = plt.hist(samples, bins = n_bins, weights=1/sample_size * np.ones_like(samples))\n",
    "plt.xlabel('x')\n",
    "plt.ylabel('P')\n",
    "plt.title(f'Probability Density Function for ChiSquare(k={df})')\n",
    "plt.show()"
   ]
  },
  {
   "cell_type": "markdown",
   "metadata": {
    "slideshow": {
     "slide_type": "subslide"
    }
   },
   "source": [
    "### Кумулятивная функция распределения"
   ]
  },
  {
   "cell_type": "code",
   "execution_count": 14,
   "metadata": {
    "ExecuteTime": {
     "end_time": "2020-12-02T22:11:45.979107Z",
     "start_time": "2020-12-02T22:11:45.762258Z"
    },
    "slideshow": {
     "slide_type": "fragment"
    }
   },
   "outputs": [
    {
     "data": {
      "image/png": "[encoded data removed]",
      "text/plain": [
       "<Figure size 648x504 with 1 Axes>"
      ]
     },
     "metadata": {
      "needs_background": "light"
     },
     "output_type": "display_data"
    }
   ],
   "source": [
    "from matplotlib import pyplot as plt\n",
    "\n",
    "plt.figure(figsize=(9, 7))\n",
    "plt.plot(pdf[1], [0] + list(pdf[0].cumsum()))\n",
    "plt.xlabel('x')\n",
    "plt.ylabel('P')\n",
    "plt.title(f'Cumulative Distribution Function for ChiSquare(k={df})')\n",
    "plt.show()"
   ]
  },
  {
   "cell_type": "markdown",
   "metadata": {
    "slideshow": {
     "slide_type": "slide"
    }
   },
   "source": [
    "## Применение"
   ]
  },
  {
   "cell_type": "markdown",
   "metadata": {
    "slideshow": {
     "slide_type": "fragment"
    }
   },
   "source": [
    "Распределение хи-квадрат играет очень большую роль в статистике. Оно обладает множеством полезных и занятных свойств и тесно связано со многими другими распределениями. Например, интересно, что, если $X \\sim U(0,1)$, то $-2\\log{X} \\sim \\chi^2(2)$.\n",
    "\n",
    "Безусловно, очень важным применением данной случайной величины в проверке гипотез является критерий хи-квадрат. Он основан на центральной предельной теореме и определении распределения хи-квадрат."
   ]
  },
  {
   "cell_type": "markdown",
   "metadata": {
    "slideshow": {
     "slide_type": "slide"
    }
   },
   "source": [
    "# Моделирование случайной величины"
   ]
  },
  {
   "cell_type": "markdown",
   "metadata": {
    "slideshow": {
     "slide_type": "fragment"
    }
   },
   "source": [
    "Случайную величину, распределённую по закону хи-квадрат, достаточно удобно генерировать по определению как сумму квадратов нормально распределённых случайных величин с $\\mu = 0$ и $\\sigma^2 = 1$. Именно этот метод был использован в третьей лабораторной.\n",
    "\n",
    "Однако он также требует генератор стандартного нормального распределения. Простейший метод реализовать этот генератор следует из центральной предельной теоремы: достаточно сложить 12 БСВ и вычесть 6 из этой суммы. Полученная СВ будет распределена по закону, близкому к стандартному нормальному.\n",
    "\n",
    "Однако для большого числа степеней свободы данный метод может оказаться весьма медленным."
   ]
  },
  {
   "cell_type": "markdown",
   "metadata": {
    "slideshow": {
     "slide_type": "subslide"
    }
   },
   "source": [
    "Альтернативным способом может служить, например, основанный на бинарном поиске. Так как мы знаем правдивую функцию распределения и она монотонно возрастает, можно генерировать СВ $\\eta_i$, распределённые равномерно на отрезке $[0;1]$ и при помощи бинарного поиска по аргументу функции распределения хи-квадрат искать значение функции, обратной к функции распределения, в точках $\\eta_i$. Так как вычисление функции распределения хи-квадрат весьма вычислительно затратно и включает в себя вычисление неполной гамма-функции, этот метод также может оказаться весьма неэффективным."
   ]
  },
  {
   "cell_type": "code",
   "execution_count": null,
   "metadata": {},
   "outputs": [],
   "source": []
  }
 ],
 "metadata": {
  "celltoolbar": "Slideshow",
  "hide_input": false,
  "kernelspec": {
   "display_name": "Python 3",
   "language": "python",
   "name": "python3"
  },
  "language_info": {
   "codemirror_mode": {
    "name": "ipython",
    "version": 3
   },
   "file_extension": ".py",
   "mimetype": "text/x-python",
   "name": "python",
   "nbconvert_exporter": "python",
   "pygments_lexer": "ipython3",
   "version": "3.8.5"
  },
  "toc": {
   "base_numbering": 1,
   "nav_menu": {},
   "number_sections": true,
   "sideBar": true,
   "skip_h1_title": false,
   "title_cell": "Table of Contents",
   "title_sidebar": "Contents",
   "toc_cell": false,
   "toc_position": {},
   "toc_section_display": true,
   "toc_window_display": false
  },
  "varInspector": {
   "cols": {
    "lenName": 16,
    "lenType": 16,
    "lenVar": 40
   },
   "kernels_config": {
    "python": {
     "delete_cmd_postfix": "",
     "delete_cmd_prefix": "del ",
     "library": "var_list.py",
     "varRefreshCmd": "print(var_dic_list())"
    },
    "r": {
     "delete_cmd_postfix": ") ",
     "delete_cmd_prefix": "rm(",
     "library": "var_list.r",
     "varRefreshCmd": "cat(var_dic_list()) "
    }
   },
   "types_to_exclude": [
    "module",
    "function",
    "builtin_function_or_method",
    "instance",
    "_Feature"
   ],
   "window_display": false
  }
 },
 "nbformat": 4,
 "nbformat_minor": 4
}
