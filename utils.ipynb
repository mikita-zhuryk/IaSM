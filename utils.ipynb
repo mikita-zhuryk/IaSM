{
 "cells": [
  {
   "cell_type": "code",
   "execution_count": 2,
   "metadata": {},
   "outputs": [],
   "source": [
    "import numpy as np\n",
    "import scipy as sp\n",
    "from scipy import stats\n",
    "from matplotlib import pyplot as plt"
   ]
  },
  {
   "cell_type": "code",
   "execution_count": null,
   "metadata": {},
   "outputs": [],
   "source": [
    "def autocov(seq: np.ndarray, offset: int):  # !!!!!!!\n",
    "    if offset == 0:\n",
    "        return np.mean(seq ** 2)\n",
    "    return np.mean(seq[:-offset] * seq[offset:])"
   ]
  },
  {
   "cell_type": "code",
   "execution_count": null,
   "metadata": {},
   "outputs": [],
   "source": [
    "def plot_conv_comparison(x, means, np_means, exact_mean: float = 0.5):\n",
    "    fig, (ax1, ax2) = plt.subplots(1, 2, figsize=(16, 5))\n",
    "    ax1.plot(x, means - exact_mean)\n",
    "    ax2.plot(x, np_means - exact_mean)\n",
    "    ax1.set_xlabel('# samples')\n",
    "    ax1.set_ylabel('Divergence from mean')\n",
    "    ax1.set_title('Mean convergence plot')\n",
    "    ax2.set_xlabel('# samples')\n",
    "    ax2.set_ylabel('Divergence from mean')\n",
    "    ax2.set_title('Mean convergence plot for np')\n",
    "    plt.show()"
   ]
  },
  {
   "cell_type": "code",
   "execution_count": null,
   "metadata": {},
   "outputs": [],
   "source": [
    "def plot_autocov_comparison(seq, np_seq):\n",
    "    fig, (ax1, ax2) = plt.subplots(1, 2, figsize=(16, 5))\n",
    "    ax1.plot([autocov(seq, k) for k in range(51)])\n",
    "    ax2.plot([autocov(np_seq, k) for k in range(51)])\n",
    "    ax1.set_xlabel('Offset')\n",
    "    ax1.set_ylabel('Autocovariance')\n",
    "    ax1.set_title('Autocovariance function')\n",
    "    ax2.set_xlabel('Offset')\n",
    "    ax2.set_ylabel('Autocovariance')\n",
    "    ax2.set_title('Autocovariance function for np')\n",
    "    plt.show()"
   ]
  },
  {
   "cell_type": "code",
   "execution_count": null,
   "metadata": {},
   "outputs": [],
   "source": [
    "def plot_scatter_comparison(seq, np_seq):\n",
    "    fig, (ax1, ax2) = plt.subplots(1, 2, figsize=(16, 5))\n",
    "    ax1.scatter(seq[::2], seq[1::2])\n",
    "    ax2.scatter(np_seq[::2], np_seq[1::2])\n",
    "    ax1.set_ylabel('Elements with even indices')\n",
    "    ax1.set_xlabel('Elements with odd indices')\n",
    "    ax1.set_title('Sequence scatter plot')\n",
    "    ax2.set_ylabel('Elements with even indices')\n",
    "    ax2.set_xlabel('Elements with odd indices')\n",
    "    ax2.set_title('Sequence scatter plot for np')\n",
    "    plt.show()"
   ]
  },
  {
   "cell_type": "code",
   "execution_count": null,
   "metadata": {},
   "outputs": [],
   "source": [
    "def plot_hist_comparison(seq, np_seq, bins: int = 16):\n",
    "    fig, (ax1, ax2) = plt.subplots(1, 2, figsize=(16, 5))\n",
    "    ax1.hist(seq, bins=bins)\n",
    "    ax2.hist(np_seq, bins=bins)\n",
    "    ax1.set_xlabel('Value')\n",
    "    ax1.set_ylabel('Occurences')\n",
    "    ax1.set_title('Distribution histogram')\n",
    "    ax2.set_xlabel('Value')\n",
    "    ax2.set_ylabel('Occurences')\n",
    "    ax2.set_title('Distribution histogram for np')\n",
    "    plt.show()"
   ]
  },
  {
   "cell_type": "code",
   "execution_count": null,
   "metadata": {},
   "outputs": [],
   "source": [
    "from scipy import stats\n",
    "\n",
    "def discrete_chi2(seq, possible_values, gt_proba):\n",
    "    unique_values, unique_counts = np.unique(seq, return_counts=True)\n",
    "    seq_dist = np.zeros_like(possible_values)\n",
    "    if unique_values.size < possible_values.size:\n",
    "        i = 0\n",
    "        for (value, count) in zip(unique_values, unique_counts):\n",
    "            while possible_values[i] != value:\n",
    "                i += 1\n",
    "            seq_dist[i] = count\n",
    "    else:\n",
    "        seq_dist = unique_counts\n",
    "    gt_dist = gt_proba * seq.size\n",
    "    return np.sum((seq_dist - gt_dist) ** 2 / gt_dist)\n",
    "    \n",
    "\n",
    "def chi2(seq, dist_func, low: float = 0, high: float = 1, k: int = 5):\n",
    "        bins = np.linspace(low, high, k + 1)\n",
    "        dist = np.array([dist_func(value) for value in bins])\n",
    "        dist = dist[1:] - dist[:-1]\n",
    "        hist = plt.hist(seq, bins=bins)[0]\n",
    "        return seq.size * np.sum((hist / seq.size - dist) ** 2 / dist)\n",
    "\n",
    "def find_chi2_p_value(chi2: float, r: int):\n",
    "    return 1 - stats.chi2.cdf(chi2, r)"
   ]
  }
 ],
 "metadata": {
  "kernelspec": {
   "display_name": "Python 3",
   "language": "python",
   "name": "python3"
  },
  "language_info": {
   "codemirror_mode": {
    "name": "ipython",
    "version": 3
   },
   "file_extension": ".py",
   "mimetype": "text/x-python",
   "name": "python",
   "nbconvert_exporter": "python",
   "pygments_lexer": "ipython3",
   "version": "3.8.2"
  }
 },
 "nbformat": 4,
 "nbformat_minor": 4
}
